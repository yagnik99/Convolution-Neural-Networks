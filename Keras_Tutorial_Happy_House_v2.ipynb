{
  "nbformat": 4,
  "nbformat_minor": 0,
  "metadata": {
    "kernelspec": {
      "display_name": "Python 3",
      "language": "python",
      "name": "python3"
    },
    "language_info": {
      "codemirror_mode": {
        "name": "ipython",
        "version": 3
      },
      "file_extension": ".py",
      "mimetype": "text/x-python",
      "name": "python",
      "nbconvert_exporter": "python",
      "pygments_lexer": "ipython3",
      "version": "3.6.0"
    },
    "colab": {
      "name": "Keras - Tutorial - Happy House v2.ipynb",
      "provenance": [],
      "include_colab_link": true
    }
  },
  "cells": [
    {
      "cell_type": "markdown",
      "metadata": {
        "id": "view-in-github",
        "colab_type": "text"
      },
      "source": [
        "<a href=\"https://colab.research.google.com/github/yagnik99/Convolution-Neural-Networks/blob/main/Keras_Tutorial_Happy_House_v2.ipynb\" target=\"_parent\"><img src=\"https://colab.research.google.com/assets/colab-badge.svg\" alt=\"Open In Colab\"/></a>"
      ]
    },
    {
      "cell_type": "markdown",
      "metadata": {
        "id": "IsXleAOBRfSJ"
      },
      "source": [
        "# Keras tutorial - the Happy House\n",
        "\n",
        "Welcome to the first assignment of week 2. In this assignment, you will:\n",
        "1. Learn to use Keras, a high-level neural networks API (programming framework), written in Python and capable of running on top of several lower-level frameworks including TensorFlow and CNTK. \n",
        "2. See how you can in a couple of hours build a deep learning algorithm.\n",
        "\n",
        "Why are we using Keras? Keras was developed to enable deep learning engineers to build and experiment with different models very quickly. Just as TensorFlow is a higher-level framework than Python, Keras is an even higher-level framework and provides additional abstractions. Being able to go from idea to result with the least possible delay is key to finding good models. However, Keras is more restrictive than the lower-level frameworks, so there are some very complex models that you can implement in TensorFlow but not (without more difficulty) in Keras. That being said, Keras will work fine for many common models. \n",
        "\n",
        "In this exercise, you'll work on the \"Happy House\" problem, which we'll explain below. Let's load the required packages and solve the problem of the Happy House!"
      ]
    },
    {
      "cell_type": "code",
      "metadata": {
        "collapsed": true,
        "id": "825Nls-TRfSd"
      },
      "source": [
        "import numpy as np\n",
        "from keras import layers\n",
        "from keras.layers import Input, Dense, Activation, ZeroPadding2D, BatchNormalization, Flatten, Conv2D\n",
        "from keras.layers import AveragePooling2D, MaxPooling2D, Dropout, GlobalMaxPooling2D, GlobalAveragePooling2D\n",
        "from keras.models import Model\n",
        "from keras.preprocessing import image\n",
        "from keras.utils import layer_utils\n",
        "from keras.utils.data_utils import get_file\n",
        "from keras.applications.imagenet_utils import preprocess_input\n",
        "import pydot\n",
        "from IPython.display import SVG\n",
        "from keras.utils.vis_utils import model_to_dot\n",
        "from keras.utils import plot_model\n",
        "\n",
        "\n",
        "import keras.backend as K\n",
        "K.set_image_data_format('channels_last')\n",
        "import matplotlib.pyplot as plt\n",
        "from matplotlib.pyplot import imshow\n",
        "\n",
        "%matplotlib inline"
      ],
      "execution_count": 11,
      "outputs": []
    },
    {
      "cell_type": "code",
      "metadata": {
        "colab": {
          "base_uri": "https://localhost:8080/"
        },
        "id": "k2H4Cr6xTd9R",
        "outputId": "238aaa94-64cd-469c-c08f-a05517849bf2"
      },
      "source": [
        "from google.colab import drive\n",
        "drive.mount('/content/drive')"
      ],
      "execution_count": 12,
      "outputs": [
        {
          "output_type": "stream",
          "text": [
            "Drive already mounted at /content/drive; to attempt to forcibly remount, call drive.mount(\"/content/drive\", force_remount=True).\n"
          ],
          "name": "stdout"
        }
      ]
    },
    {
      "cell_type": "code",
      "metadata": {
        "id": "EZW9yL6VTmF1"
      },
      "source": [
        "# Insert the directory\n",
        "import sys\n",
        "sys.path.insert(0,'/content/drive/MyDrive/AlmaBetter/Cohort Aravali/Module 6/Week 3/Day 6/CNN2/KerasTutorial')"
      ],
      "execution_count": 13,
      "outputs": []
    },
    {
      "cell_type": "code",
      "metadata": {
        "id": "7lss363nTYzT"
      },
      "source": [
        "from kt_utils import *"
      ],
      "execution_count": 14,
      "outputs": []
    },
    {
      "cell_type": "markdown",
      "metadata": {
        "id": "0nhnklw-RfSg"
      },
      "source": [
        "**Note**: As you can see, we've imported a lot of functions from Keras. You can use them easily just by calling them directly in the notebook. Ex: `X = Input(...)` or `X = ZeroPadding2D(...)`."
      ]
    },
    {
      "cell_type": "markdown",
      "metadata": {
        "id": "XjgZlmUpRfSh"
      },
      "source": [
        "## 1 - The Happy House \n",
        "\n",
        "For your next vacation, you decided to spend a week with five of your friends from school. It is a very convenient house with many things to do nearby. But the most important benefit is that everybody has commited to be happy when they are in the house. So anyone wanting to enter the house must prove their current state of happiness.\n",
        "\n",
        "<img src=\"images/happy-house.jpg\" style=\"width:350px;height:270px;\">\n",
        "<caption><center> <u> <font color='purple'> **Figure 1** </u><font color='purple'>  : **the Happy House**</center></caption>\n",
        "\n",
        "\n",
        "As a deep learning expert, to make sure the \"Happy\" rule is strictly applied, you are going to build an algorithm which that uses pictures from the front door camera to check if the person is happy or not. The door should open only if the person is happy. \n",
        "\n",
        "You have gathered pictures of your friends and yourself, taken by the front-door camera. The dataset is labbeled. \n",
        "\n",
        "<img src=\"images/house-members.png\" style=\"width:550px;height:250px;\">\n",
        "\n",
        "Run the following code to normalize the dataset and learn about its shapes."
      ]
    },
    {
      "cell_type": "code",
      "metadata": {
        "id": "YRgC3mVvVH-D"
      },
      "source": [
        "def load_dataset():\n",
        "    train_dataset = h5py.File('/content/drive/MyDrive/AlmaBetter/Cohort Aravali/Module 6/Week 3/Day 6/CNN2/KerasTutorial/datasets/train_happy.h5', \"r\")\n",
        "    train_set_x_orig = np.array(train_dataset[\"train_set_x\"][:]) # your train set features\n",
        "    train_set_y_orig = np.array(train_dataset[\"train_set_y\"][:]) # your train set labels\n",
        "\n",
        "    test_dataset = h5py.File('/content/drive/MyDrive/AlmaBetter/Cohort Aravali/Module 6/Week 3/Day 6/CNN2/KerasTutorial/datasets/test_happy.h5', \"r\")\n",
        "    test_set_x_orig = np.array(test_dataset[\"test_set_x\"][:]) # your test set features\n",
        "    test_set_y_orig = np.array(test_dataset[\"test_set_y\"][:]) # your test set labels\n",
        "\n",
        "    classes = np.array(test_dataset[\"list_classes\"][:]) # the list of classes\n",
        "    \n",
        "    train_set_y_orig = train_set_y_orig.reshape((1, train_set_y_orig.shape[0]))\n",
        "    test_set_y_orig = test_set_y_orig.reshape((1, test_set_y_orig.shape[0]))\n",
        "    \n",
        "    return train_set_x_orig, train_set_y_orig, test_set_x_orig, test_set_y_orig, classes\n"
      ],
      "execution_count": 15,
      "outputs": []
    },
    {
      "cell_type": "code",
      "metadata": {
        "collapsed": true,
        "colab": {
          "base_uri": "https://localhost:8080/"
        },
        "id": "5BSH3tGzRfSj",
        "outputId": "6a4b3969-c145-4fec-909d-6da0994220fa"
      },
      "source": [
        "X_train_orig, Y_train_orig, X_test_orig, Y_test_orig, classes = load_dataset()\n",
        "\n",
        "# Normalize image vectors\n",
        "X_train = X_train_orig/255.\n",
        "X_test = X_test_orig/255.\n",
        "\n",
        "# Reshape\n",
        "Y_train = Y_train_orig.T\n",
        "Y_test = Y_test_orig.T\n",
        "\n",
        "print (\"number of training examples = \" + str(X_train.shape[0]))\n",
        "print (\"number of test examples = \" + str(X_test.shape[0]))\n",
        "print (\"X_train shape: \" + str(X_train.shape))\n",
        "print (\"Y_train shape: \" + str(Y_train.shape))\n",
        "print (\"X_test shape: \" + str(X_test.shape))\n",
        "print (\"Y_test shape: \" + str(Y_test.shape))"
      ],
      "execution_count": 16,
      "outputs": [
        {
          "output_type": "stream",
          "text": [
            "number of training examples = 600\n",
            "number of test examples = 150\n",
            "X_train shape: (600, 64, 64, 3)\n",
            "Y_train shape: (600, 1)\n",
            "X_test shape: (150, 64, 64, 3)\n",
            "Y_test shape: (150, 1)\n"
          ],
          "name": "stdout"
        }
      ]
    },
    {
      "cell_type": "markdown",
      "metadata": {
        "id": "Fwzk4-fIRfSk"
      },
      "source": [
        "**Details of the \"Happy\" dataset**:\n",
        "- Images are of shape (64,64,3)\n",
        "- Training: 600 pictures\n",
        "- Test: 150 pictures\n",
        "\n",
        "It is now time to solve the \"Happy\" Challenge."
      ]
    },
    {
      "cell_type": "markdown",
      "metadata": {
        "id": "SutYzuw0RfSl"
      },
      "source": [
        "## 2 - Building a model in Keras\n",
        "\n",
        "Keras is very good for rapid prototyping. In just a short time you will be able to build a model that achieves outstanding results.\n",
        "\n",
        "Here is an example of a model in Keras:\n",
        "\n",
        "```python\n",
        "def model(input_shape):\n",
        "    # Define the input placeholder as a tensor with shape input_shape. Think of this as your input image!\n",
        "    X_input = Input(input_shape)\n",
        "\n",
        "    # Zero-Padding: pads the border of X_input with zeroes\n",
        "    X = ZeroPadding2D((3, 3))(X_input)\n",
        "\n",
        "    # CONV -> BN -> RELU Block applied to X\n",
        "    X = Conv2D(32, (7, 7), strides = (1, 1), name = 'conv0')(X)\n",
        "    X = BatchNormalization(axis = 3, name = 'bn0')(X)\n",
        "    X = Activation('relu')(X)\n",
        "\n",
        "    # MAXPOOL\n",
        "    X = MaxPooling2D((2, 2), name='max_pool')(X)\n",
        "\n",
        "    # FLATTEN X (means convert it to a vector) + FULLYCONNECTED\n",
        "    X = Flatten()(X)\n",
        "    X = Dense(1, activation='sigmoid', name='fc')(X)\n",
        "\n",
        "    # Create model. This creates your Keras model instance, you'll use this instance to train/test the model.\n",
        "    model = Model(inputs = X_input, outputs = X, name='HappyModel')\n",
        "    \n",
        "    return model\n",
        "```\n",
        "\n",
        "Note that Keras uses a different convention with variable names than we've previously used with numpy and TensorFlow. In particular, rather than creating and assigning a new variable on each step of forward propagation such as `X`, `Z1`, `A1`, `Z2`, `A2`, etc. for the computations for the different layers, in Keras code each line above just reassigns `X` to a new value using `X = ...`. In other words, during each step of forward propagation, we are just writing the latest value in the commputation into the same variable `X`. The only exception was `X_input`, which we kept separate and did not overwrite, since we needed it at the end to create the Keras model instance (`model = Model(inputs = X_input, ...)` above). \n",
        "\n",
        "**Exercise**: Implement a `HappyModel()`. This assignment is more open-ended than most. We suggest that you start by implementing a model using the architecture we suggest, and run through the rest of this assignment using that as your initial model. But after that, come back and take initiative to try out other model architectures. For example, you might take inspiration from the model above, but then vary the network architecture and hyperparameters however you wish. You can also use other functions such as `AveragePooling2D()`, `GlobalMaxPooling2D()`, `Dropout()`. \n",
        "\n",
        "**Note**: You have to be careful with your data's shapes. Use what you've learned in the videos to make sure your convolutional, pooling and fully-connected layers are adapted to the volumes you're applying it to."
      ]
    },
    {
      "cell_type": "code",
      "metadata": {
        "collapsed": true,
        "id": "P9YeVyM5RfSn"
      },
      "source": [
        "# GRADED FUNCTION: HappyModel\n",
        "\n",
        "def HappyModel(input_shape):\n",
        "    \"\"\"\n",
        "    Implementation of the HappyModel.\n",
        "    \n",
        "    Arguments:\n",
        "    input_shape -- shape of the images of the dataset\n",
        "\n",
        "    Returns:\n",
        "    model -- a Model() instance in Keras\n",
        "    \"\"\"\n",
        "    \n",
        "    ### START CODE HERE ###\n",
        "    # Feel free to use the suggested outline in the text above to get started, and run through the whole\n",
        "    # exercise (including the later portions of this notebook) once. The come back also try out other\n",
        "    # network architectures as well. \n",
        "    X_input = Input(input_shape)\n",
        "\n",
        "    # Zero-Padding: pads the border of X_input with zeroes\n",
        "    X = ZeroPadding2D((3, 3))(X_input)\n",
        "\n",
        "    # CONV -> BN -> RELU Block applied to X\n",
        "    X = Conv2D(32, (7, 7), strides = (1, 1), name = 'conv0')(X)\n",
        "    X = BatchNormalization(axis = 3, name = 'bn0')(X)\n",
        "    X = Activation('relu')(X)\n",
        "\n",
        "    # MAXPOOL\n",
        "    X = MaxPooling2D((2, 2), name='max_pool')(X)\n",
        "\n",
        "    # FLATTEN X (means convert it to a vector) + FULLYCONNECTED\n",
        "    X = Flatten()(X)\n",
        "    X = Dense(1, activation='sigmoid', name='fc')(X)\n",
        "\n",
        "    # Create model. This creates your Keras model instance, you'll use this instance to train/test the model.\n",
        "    model = Model(inputs = X_input, outputs = X, name='HappyModel')\n",
        "    \n",
        "    \n",
        "    ### END CODE HERE ###\n",
        "    \n",
        "    return model"
      ],
      "execution_count": 17,
      "outputs": []
    },
    {
      "cell_type": "markdown",
      "metadata": {
        "id": "J1eRfyINRfSp"
      },
      "source": [
        "You have now built a function to describe your model. To train and test this model, there are four steps in Keras:\n",
        "1. Create the model by calling the function above\n",
        "2. Compile the model by calling `model.compile(optimizer = \"...\", loss = \"...\", metrics = [\"accuracy\"])`\n",
        "3. Train the model on train data by calling `model.fit(x = ..., y = ..., epochs = ..., batch_size = ...)`\n",
        "4. Test the model on test data by calling `model.evaluate(x = ..., y = ...)`\n",
        "\n",
        "If you want to know more about `model.compile()`, `model.fit()`, `model.evaluate()` and their arguments, refer to the official [Keras documentation](https://keras.io/models/model/).\n",
        "\n",
        "**Exercise**: Implement step 1, i.e. create the model."
      ]
    },
    {
      "cell_type": "code",
      "metadata": {
        "collapsed": true,
        "id": "NmZQQhLURfSr"
      },
      "source": [
        "### START CODE HERE ### (1 line)\n",
        "happyModel = HappyModel((64,64,3))\n",
        "### END CODE HERE ###"
      ],
      "execution_count": 18,
      "outputs": []
    },
    {
      "cell_type": "markdown",
      "metadata": {
        "id": "SAtE0UhCRfSr"
      },
      "source": [
        "**Exercise**: Implement step 2, i.e. compile the model to configure the learning process. Choose the 3 arguments of `compile()` wisely. Hint: the Happy Challenge is a binary classification problem."
      ]
    },
    {
      "cell_type": "code",
      "metadata": {
        "collapsed": true,
        "id": "vDWeSTA3RfSs"
      },
      "source": [
        "### START CODE HERE ### (1 line)\n",
        "happyModel.compile(optimizer = \"adam\",loss = \"binary_crossentropy\",metrics = [\"accuracy\"])\n",
        "### END CODE HERE ###"
      ],
      "execution_count": 19,
      "outputs": []
    },
    {
      "cell_type": "markdown",
      "metadata": {
        "id": "DtrABHAQRfSt"
      },
      "source": [
        "**Exercise**: Implement step 3, i.e. train the model. Choose the number of epochs and the batch size."
      ]
    },
    {
      "cell_type": "code",
      "metadata": {
        "collapsed": true,
        "id": "2X40i8HJRfSu",
        "colab": {
          "base_uri": "https://localhost:8080/"
        },
        "outputId": "d8b9ab72-cf2b-4dbc-f03d-71e576ae0355"
      },
      "source": [
        "### START CODE HERE ### (1 line)\n",
        "happyModel.fit(x = X_train,y = Y_train,epochs =40 ,batch_size = 16 )\n",
        "### END CODE HERE ###"
      ],
      "execution_count": 20,
      "outputs": [
        {
          "output_type": "stream",
          "text": [
            "Epoch 1/40\n",
            "38/38 [==============================] - 5s 105ms/step - loss: 1.1762 - accuracy: 0.6473\n",
            "Epoch 2/40\n",
            "38/38 [==============================] - 4s 102ms/step - loss: 0.2084 - accuracy: 0.9066\n",
            "Epoch 3/40\n",
            "38/38 [==============================] - 4s 104ms/step - loss: 0.1586 - accuracy: 0.9323\n",
            "Epoch 4/40\n",
            "38/38 [==============================] - 4s 102ms/step - loss: 0.1412 - accuracy: 0.9544\n",
            "Epoch 5/40\n",
            "38/38 [==============================] - 4s 103ms/step - loss: 0.0800 - accuracy: 0.9810\n",
            "Epoch 6/40\n",
            "38/38 [==============================] - 4s 103ms/step - loss: 0.2217 - accuracy: 0.9134\n",
            "Epoch 7/40\n",
            "38/38 [==============================] - 4s 102ms/step - loss: 0.1047 - accuracy: 0.9551\n",
            "Epoch 8/40\n",
            "38/38 [==============================] - 4s 102ms/step - loss: 0.2008 - accuracy: 0.9308\n",
            "Epoch 9/40\n",
            "38/38 [==============================] - 4s 102ms/step - loss: 0.1540 - accuracy: 0.9431\n",
            "Epoch 10/40\n",
            "38/38 [==============================] - 4s 102ms/step - loss: 0.3103 - accuracy: 0.9025\n",
            "Epoch 11/40\n",
            "38/38 [==============================] - 4s 102ms/step - loss: 0.1006 - accuracy: 0.9674\n",
            "Epoch 12/40\n",
            "38/38 [==============================] - 4s 103ms/step - loss: 0.0746 - accuracy: 0.9783\n",
            "Epoch 13/40\n",
            "38/38 [==============================] - 4s 101ms/step - loss: 0.1008 - accuracy: 0.9656\n",
            "Epoch 14/40\n",
            "38/38 [==============================] - 4s 102ms/step - loss: 0.1223 - accuracy: 0.9557\n",
            "Epoch 15/40\n",
            "38/38 [==============================] - 4s 104ms/step - loss: 0.0470 - accuracy: 0.9816\n",
            "Epoch 16/40\n",
            "38/38 [==============================] - 4s 103ms/step - loss: 0.0753 - accuracy: 0.9718\n",
            "Epoch 17/40\n",
            "38/38 [==============================] - 4s 104ms/step - loss: 0.0395 - accuracy: 0.9829\n",
            "Epoch 18/40\n",
            "38/38 [==============================] - 4s 102ms/step - loss: 0.0638 - accuracy: 0.9806\n",
            "Epoch 19/40\n",
            "38/38 [==============================] - 4s 101ms/step - loss: 0.0364 - accuracy: 0.9868\n",
            "Epoch 20/40\n",
            "38/38 [==============================] - 4s 103ms/step - loss: 0.0193 - accuracy: 0.9927\n",
            "Epoch 21/40\n",
            "38/38 [==============================] - 4s 103ms/step - loss: 0.0205 - accuracy: 0.9911\n",
            "Epoch 22/40\n",
            "38/38 [==============================] - 4s 103ms/step - loss: 0.0859 - accuracy: 0.9606\n",
            "Epoch 23/40\n",
            "38/38 [==============================] - 4s 103ms/step - loss: 0.0758 - accuracy: 0.9830\n",
            "Epoch 24/40\n",
            "38/38 [==============================] - 4s 103ms/step - loss: 0.0640 - accuracy: 0.9795\n",
            "Epoch 25/40\n",
            "38/38 [==============================] - 4s 105ms/step - loss: 0.0644 - accuracy: 0.9788\n",
            "Epoch 26/40\n",
            "38/38 [==============================] - 4s 102ms/step - loss: 0.0505 - accuracy: 0.9796\n",
            "Epoch 27/40\n",
            "38/38 [==============================] - 4s 104ms/step - loss: 0.0405 - accuracy: 0.9884\n",
            "Epoch 28/40\n",
            "38/38 [==============================] - 4s 103ms/step - loss: 0.1163 - accuracy: 0.9692\n",
            "Epoch 29/40\n",
            "38/38 [==============================] - 4s 102ms/step - loss: 0.1909 - accuracy: 0.9404\n",
            "Epoch 30/40\n",
            "38/38 [==============================] - 4s 103ms/step - loss: 0.1427 - accuracy: 0.9626\n",
            "Epoch 31/40\n",
            "38/38 [==============================] - 4s 103ms/step - loss: 0.1299 - accuracy: 0.9591\n",
            "Epoch 32/40\n",
            "38/38 [==============================] - 4s 103ms/step - loss: 0.0450 - accuracy: 0.9787\n",
            "Epoch 33/40\n",
            "38/38 [==============================] - 4s 102ms/step - loss: 0.0780 - accuracy: 0.9793\n",
            "Epoch 34/40\n",
            "38/38 [==============================] - 4s 103ms/step - loss: 0.0616 - accuracy: 0.9840\n",
            "Epoch 35/40\n",
            "38/38 [==============================] - 4s 102ms/step - loss: 0.0495 - accuracy: 0.9873\n",
            "Epoch 36/40\n",
            "38/38 [==============================] - 4s 103ms/step - loss: 0.0585 - accuracy: 0.9775\n",
            "Epoch 37/40\n",
            "38/38 [==============================] - 4s 104ms/step - loss: 0.1090 - accuracy: 0.9784\n",
            "Epoch 38/40\n",
            "38/38 [==============================] - 4s 105ms/step - loss: 0.0281 - accuracy: 0.9921\n",
            "Epoch 39/40\n",
            "38/38 [==============================] - 4s 105ms/step - loss: 0.0124 - accuracy: 0.9905\n",
            "Epoch 40/40\n",
            "38/38 [==============================] - 4s 102ms/step - loss: 0.0130 - accuracy: 0.9972\n"
          ],
          "name": "stdout"
        },
        {
          "output_type": "execute_result",
          "data": {
            "text/plain": [
              "<tensorflow.python.keras.callbacks.History at 0x7fe346ca3a90>"
            ]
          },
          "metadata": {
            "tags": []
          },
          "execution_count": 20
        }
      ]
    },
    {
      "cell_type": "markdown",
      "metadata": {
        "id": "WU7B0Xo6RfSv"
      },
      "source": [
        "Note that if you run `fit()` again, the `model` will continue to train with the parameters it has already learnt instead of reinitializing them.\n",
        "\n",
        "**Exercise**: Implement step 4, i.e. test/evaluate the model."
      ]
    },
    {
      "cell_type": "code",
      "metadata": {
        "collapsed": true,
        "scrolled": true,
        "id": "X1x_q6EtRfSv",
        "colab": {
          "base_uri": "https://localhost:8080/"
        },
        "outputId": "7e3e9773-7c53-4a24-b195-fa131d608983"
      },
      "source": [
        "### START CODE HERE ### (1 line)\n",
        "preds = happyModel.evaluate(x = X_test,y = Y_test)\n",
        "### END CODE HERE ###\n",
        "print()\n",
        "print (\"Loss = \" + str(preds[0]))\n",
        "print (\"Test Accuracy = \" + str(preds[1]))"
      ],
      "execution_count": 21,
      "outputs": [
        {
          "output_type": "stream",
          "text": [
            "5/5 [==============================] - 0s 52ms/step - loss: 0.1148 - accuracy: 0.9733\n",
            "\n",
            "Loss = 0.11476237326860428\n",
            "Test Accuracy = 0.9733333587646484\n"
          ],
          "name": "stdout"
        }
      ]
    },
    {
      "cell_type": "markdown",
      "metadata": {
        "id": "tOBUfsoARfSw"
      },
      "source": [
        "If your `happyModel()` function worked, you should have observed much better than random-guessing (50%) accuracy on the train and test sets.\n",
        "\n",
        "To give you a point of comparison, our model gets around **95% test accuracy in 40 epochs** (and 99% train accuracy) with a mini batch size of 16 and \"adam\" optimizer. But our model gets decent accuracy after just 2-5 epochs, so if you're comparing different models you can also train a variety of models on just a few epochs and see how they compare. \n",
        "\n",
        "If you have not yet achieved a very good accuracy (let's say more than 80%), here're some things you can play around with to try to achieve it:\n",
        "\n",
        "- Try using blocks of CONV->BATCHNORM->RELU such as:\n",
        "```python\n",
        "X = Conv2D(32, (3, 3), strides = (1, 1), name = 'conv0')(X)\n",
        "X = BatchNormalization(axis = 3, name = 'bn0')(X)\n",
        "X = Activation('relu')(X)\n",
        "```\n",
        "until your height and width dimensions are quite low and your number of channels quite large (≈32 for example). You are encoding useful information in a volume with a lot of channels. You can then flatten the volume and use a fully-connected layer.\n",
        "- You can use MAXPOOL after such blocks. It will help you lower the dimension in height and width.\n",
        "- Change your optimizer. We find Adam works well. \n",
        "- If the model is struggling to run and you get memory issues, lower your batch_size (12 is usually a good compromise)\n",
        "- Run on more epochs, until you see the train accuracy plateauing. \n",
        "\n",
        "Even if you have achieved a good accuracy, please feel free to keep playing with your model to try to get even better results. \n",
        "\n",
        "**Note**: If you perform hyperparameter tuning on your model, the test set actually becomes a dev set, and your model might end up overfitting to the test (dev) set. But just for the purpose of this assignment, we won't worry about that here.\n"
      ]
    },
    {
      "cell_type": "markdown",
      "metadata": {
        "id": "6VgPSwnURfSy"
      },
      "source": [
        "## 3 - Conclusion\n",
        "\n",
        "Congratulations, you have solved the Happy House challenge! \n",
        "\n",
        "Now, you just need to link this model to the front-door camera of your house. We unfortunately won't go into the details of how to do that here. "
      ]
    },
    {
      "cell_type": "markdown",
      "metadata": {
        "id": "DA5q5C_0RfSz"
      },
      "source": [
        "<font color='blue'>\n",
        "**What we would like you to remember from this assignment:**\n",
        "- Keras is a tool we recommend for rapid prototyping. It allows you to quickly try out different model architectures. Are there any applications of deep learning to your daily life that you'd like to implement using Keras? \n",
        "- Remember how to code a model in Keras and the four steps leading to the evaluation of your model on the test set. Create->Compile->Fit/Train->Evaluate/Test."
      ]
    },
    {
      "cell_type": "markdown",
      "metadata": {
        "id": "c0gm3-EIRfS0"
      },
      "source": [
        "## 4 - Test with your own image (Optional)\n",
        "\n",
        "Congratulations on finishing this assignment. You can now take a picture of your face and see if you could enter the Happy House. To do that:\n",
        "    1. Click on \"File\" in the upper bar of this notebook, then click \"Open\" to go on your Coursera Hub.\n",
        "    2. Add your image to this Jupyter Notebook's directory, in the \"images\" folder\n",
        "    3. Write your image's name in the following code\n",
        "    4. Run the code and check if the algorithm is right (0 is unhappy, 1 is happy)!\n",
        "    \n",
        "The training/test sets were quite similar; for example, all the pictures were taken against the same background (since a front door camera is always mounted in the same position). This makes the problem easier, but a model trained on this data may or may not work on your own data. But feel free to give it a try! "
      ]
    },
    {
      "cell_type": "code",
      "metadata": {
        "collapsed": true,
        "id": "ROupzz10RfS1",
        "colab": {
          "base_uri": "https://localhost:8080/",
          "height": 285
        },
        "outputId": "2e395e64-ea14-40f2-eb8b-4cf83db482e5"
      },
      "source": [
        "### START CODE HERE ###\n",
        "img_path = '/content/drive/MyDrive/AlmaBetter/Cohort Aravali/Module 6/Week 3/Day 6/CNN2/KerasTutorial/images/my_image.jpg'\n",
        "### END CODE HERE ###\n",
        "img = image.load_img(img_path, target_size=(64, 64))\n",
        "imshow(img)\n",
        "\n",
        "x = image.img_to_array(img)\n",
        "x = np.expand_dims(x, axis=0)\n",
        "x = preprocess_input(x)\n",
        "\n",
        "print(happyModel.predict(x))"
      ],
      "execution_count": 23,
      "outputs": [
        {
          "output_type": "stream",
          "text": [
            "[[1.]]\n"
          ],
          "name": "stdout"
        },
        {
          "output_type": "display_data",
          "data": {
            "image/png": "[encoded data removed]",
            "text/plain": [
              "<Figure size 432x288 with 1 Axes>"
            ]
          },
          "metadata": {
            "tags": [],
            "needs_background": "light"
          }
        }
      ]
    },
    {
      "cell_type": "markdown",
      "metadata": {
        "id": "7AvjPAUoRfS2"
      },
      "source": [
        "## 5 - Other useful functions in Keras (Optional)\n",
        "\n",
        "Two other basic features of Keras that you'll find useful are:\n",
        "- `model.summary()`: prints the details of your layers in a table with the sizes of its inputs/outputs\n",
        "- `plot_model()`: plots your graph in a nice layout. You can even save it as \".png\" using SVG() if you'd like to share it on social media ;). It is saved in \"File\" then \"Open...\" in the upper bar of the notebook.\n",
        "\n",
        "Run the following code."
      ]
    },
    {
      "cell_type": "code",
      "metadata": {
        "collapsed": true,
        "scrolled": false,
        "id": "eclPEJ6pRfS2",
        "colab": {
          "base_uri": "https://localhost:8080/"
        },
        "outputId": "f6358b72-76f9-4d65-d33f-44057dd57442"
      },
      "source": [
        "happyModel.summary()"
      ],
      "execution_count": 24,
      "outputs": [
        {
          "output_type": "stream",
          "text": [
            "Model: \"HappyModel\"\n",
            "_________________________________________________________________\n",
            "Layer (type)                 Output Shape              Param #   \n",
            "=================================================================\n",
            "input_1 (InputLayer)         [(None, 64, 64, 3)]       0         \n",
            "_________________________________________________________________\n",
            "zero_padding2d (ZeroPadding2 (None, 70, 70, 3)         0         \n",
            "_________________________________________________________________\n",
            "conv0 (Conv2D)               (None, 64, 64, 32)        4736      \n",
            "_________________________________________________________________\n",
            "bn0 (BatchNormalization)     (None, 64, 64, 32)        128       \n",
            "_________________________________________________________________\n",
            "activation (Activation)      (None, 64, 64, 32)        0         \n",
            "_________________________________________________________________\n",
            "max_pool (MaxPooling2D)      (None, 32, 32, 32)        0         \n",
            "_________________________________________________________________\n",
            "flatten (Flatten)            (None, 32768)             0         \n",
            "_________________________________________________________________\n",
            "fc (Dense)                   (None, 1)                 32769     \n",
            "=================================================================\n",
            "Total params: 37,633\n",
            "Trainable params: 37,569\n",
            "Non-trainable params: 64\n",
            "_________________________________________________________________\n"
          ],
          "name": "stdout"
        }
      ]
    },
    {
      "cell_type": "code",
      "metadata": {
        "collapsed": true,
        "id": "lPYuc3etRfS3",
        "colab": {
          "base_uri": "https://localhost:8080/",
          "height": 1000
        },
        "outputId": "69e96293-8fcd-4d5d-fefe-ee0bc9026814"
      },
      "source": [
        "plot_model(happyModel, to_file='HappyModel.png')\n",
        "SVG(model_to_dot(happyModel).create(prog='dot', format='svg'))"
      ],
      "execution_count": 25,
      "outputs": [
        {
          "output_type": "execute_result",
          "data": {
            "text/plain": [
              "<IPython.core.display.SVG object>"
            ],
            "image/svg+xml": "<svg height=\"741pt\" viewBox=\"0.00 0.00 219.00 556.00\" width=\"292pt\" xmlns=\"http://www.w3.org/2000/svg\" xmlns:xlink=\"http://www.w3.org/1999/xlink\">\n<g class=\"graph\" id=\"graph0\" transform=\"scale(1.3333 1.3333) rotate(0) translate(4 552)\">\n<title>G</title>\n<polygon fill=\"#ffffff\" points=\"-4,4 -4,-552 215,-552 215,4 -4,4\" stroke=\"transparent\"/>\n<!-- 140614189613904 -->\n<g class=\"node\" id=\"node1\">\n<title>140614189613904</title>\n<polygon fill=\"none\" points=\"39,-511.5 39,-547.5 172,-547.5 172,-511.5 39,-511.5\" stroke=\"#000000\"/>\n<text fill=\"#000000\" font-family=\"Times,serif\" font-size=\"14.00\" text-anchor=\"middle\" x=\"105.5\" y=\"-525.8\">input_1: InputLayer</text>\n</g>\n<!-- 140614189970768 -->\n<g class=\"node\" id=\"node2\">\n<title>140614189970768</title>\n<polygon fill=\"none\" points=\"0,-438.5 0,-474.5 211,-474.5 211,-438.5 0,-438.5\" stroke=\"#000000\"/>\n<text fill=\"#000000\" font-family=\"Times,serif\" font-size=\"14.00\" text-anchor=\"middle\" x=\"105.5\" y=\"-452.8\">zero_padding2d: ZeroPadding2D</text>\n</g>\n<!-- 140614189613904&#45;&gt;140614189970768 -->\n<g class=\"edge\" id=\"edge1\">\n<title>140614189613904-&gt;140614189970768</title>\n<path d=\"M105.5,-511.4551C105.5,-503.3828 105.5,-493.6764 105.5,-484.6817\" fill=\"none\" stroke=\"#000000\"/>\n<polygon fill=\"#000000\" points=\"109.0001,-484.5903 105.5,-474.5904 102.0001,-484.5904 109.0001,-484.5903\" stroke=\"#000000\"/>\n</g>\n<!-- 140614189626896 -->\n<g class=\"node\" id=\"node3\">\n<title>140614189626896</title>\n<polygon fill=\"none\" points=\"50.5,-365.5 50.5,-401.5 160.5,-401.5 160.5,-365.5 50.5,-365.5\" stroke=\"#000000\"/>\n<text fill=\"#000000\" font-family=\"Times,serif\" font-size=\"14.00\" text-anchor=\"middle\" x=\"105.5\" y=\"-379.8\">conv0: Conv2D</text>\n</g>\n<!-- 140614189970768&#45;&gt;140614189626896 -->\n<g class=\"edge\" id=\"edge2\">\n<title>140614189970768-&gt;140614189626896</title>\n<path d=\"M105.5,-438.4551C105.5,-430.3828 105.5,-420.6764 105.5,-411.6817\" fill=\"none\" stroke=\"#000000\"/>\n<polygon fill=\"#000000\" points=\"109.0001,-411.5903 105.5,-401.5904 102.0001,-411.5904 109.0001,-411.5903\" stroke=\"#000000\"/>\n</g>\n<!-- 140614189626128 -->\n<g class=\"node\" id=\"node4\">\n<title>140614189626128</title>\n<polygon fill=\"none\" points=\"25,-292.5 25,-328.5 186,-328.5 186,-292.5 25,-292.5\" stroke=\"#000000\"/>\n<text fill=\"#000000\" font-family=\"Times,serif\" font-size=\"14.00\" text-anchor=\"middle\" x=\"105.5\" y=\"-306.8\">bn0: BatchNormalization</text>\n</g>\n<!-- 140614189626896&#45;&gt;140614189626128 -->\n<g class=\"edge\" id=\"edge3\">\n<title>140614189626896-&gt;140614189626128</title>\n<path d=\"M105.5,-365.4551C105.5,-357.3828 105.5,-347.6764 105.5,-338.6817\" fill=\"none\" stroke=\"#000000\"/>\n<polygon fill=\"#000000\" points=\"109.0001,-338.5903 105.5,-328.5904 102.0001,-338.5904 109.0001,-338.5903\" stroke=\"#000000\"/>\n</g>\n<!-- 140614180684368 -->\n<g class=\"node\" id=\"node5\">\n<title>140614180684368</title>\n<polygon fill=\"none\" points=\"36,-219.5 36,-255.5 175,-255.5 175,-219.5 36,-219.5\" stroke=\"#000000\"/>\n<text fill=\"#000000\" font-family=\"Times,serif\" font-size=\"14.00\" text-anchor=\"middle\" x=\"105.5\" y=\"-233.8\">activation: Activation</text>\n</g>\n<!-- 140614189626128&#45;&gt;140614180684368 -->\n<g class=\"edge\" id=\"edge4\">\n<title>140614189626128-&gt;140614180684368</title>\n<path d=\"M105.5,-292.4551C105.5,-284.3828 105.5,-274.6764 105.5,-265.6817\" fill=\"none\" stroke=\"#000000\"/>\n<polygon fill=\"#000000\" points=\"109.0001,-265.5903 105.5,-255.5904 102.0001,-265.5904 109.0001,-265.5903\" stroke=\"#000000\"/>\n</g>\n<!-- 140614180431696 -->\n<g class=\"node\" id=\"node6\">\n<title>140614180431696</title>\n<polygon fill=\"none\" points=\"19,-146.5 19,-182.5 192,-182.5 192,-146.5 19,-146.5\" stroke=\"#000000\"/>\n<text fill=\"#000000\" font-family=\"Times,serif\" font-size=\"14.00\" text-anchor=\"middle\" x=\"105.5\" y=\"-160.8\">max_pool: MaxPooling2D</text>\n</g>\n<!-- 140614180684368&#45;&gt;140614180431696 -->\n<g class=\"edge\" id=\"edge5\">\n<title>140614180684368-&gt;140614180431696</title>\n<path d=\"M105.5,-219.4551C105.5,-211.3828 105.5,-201.6764 105.5,-192.6817\" fill=\"none\" stroke=\"#000000\"/>\n<polygon fill=\"#000000\" points=\"109.0001,-192.5903 105.5,-182.5904 102.0001,-192.5904 109.0001,-192.5903\" stroke=\"#000000\"/>\n</g>\n<!-- 140614122360016 -->\n<g class=\"node\" id=\"node7\">\n<title>140614122360016</title>\n<polygon fill=\"none\" points=\"56.5,-73.5 56.5,-109.5 154.5,-109.5 154.5,-73.5 56.5,-73.5\" stroke=\"#000000\"/>\n<text fill=\"#000000\" font-family=\"Times,serif\" font-size=\"14.00\" text-anchor=\"middle\" x=\"105.5\" y=\"-87.8\">flatten: Flatten</text>\n</g>\n<!-- 140614180431696&#45;&gt;140614122360016 -->\n<g class=\"edge\" id=\"edge6\">\n<title>140614180431696-&gt;140614122360016</title>\n<path d=\"M105.5,-146.4551C105.5,-138.3828 105.5,-128.6764 105.5,-119.6817\" fill=\"none\" stroke=\"#000000\"/>\n<polygon fill=\"#000000\" points=\"109.0001,-119.5903 105.5,-109.5904 102.0001,-119.5904 109.0001,-119.5903\" stroke=\"#000000\"/>\n</g>\n<!-- 140614180440464 -->\n<g class=\"node\" id=\"node8\">\n<title>140614180440464</title>\n<polygon fill=\"none\" points=\"70.5,-.5 70.5,-36.5 140.5,-36.5 140.5,-.5 70.5,-.5\" stroke=\"#000000\"/>\n<text fill=\"#000000\" font-family=\"Times,serif\" font-size=\"14.00\" text-anchor=\"middle\" x=\"105.5\" y=\"-14.8\">fc: Dense</text>\n</g>\n<!-- 140614122360016&#45;&gt;140614180440464 -->\n<g class=\"edge\" id=\"edge7\">\n<title>140614122360016-&gt;140614180440464</title>\n<path d=\"M105.5,-73.4551C105.5,-65.3828 105.5,-55.6764 105.5,-46.6817\" fill=\"none\" stroke=\"#000000\"/>\n<polygon fill=\"#000000\" points=\"109.0001,-46.5903 105.5,-36.5904 102.0001,-46.5904 109.0001,-46.5903\" stroke=\"#000000\"/>\n</g>\n</g>\n</svg>"
          },
          "metadata": {
            "tags": []
          },
          "execution_count": 25
        }
      ]
    }
  ]
}